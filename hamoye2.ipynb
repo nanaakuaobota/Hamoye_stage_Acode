{
 "cells": [
  {
   "cell_type": "code",
   "execution_count": 2,
   "id": "cbb83ed4",
   "metadata": {},
   "outputs": [],
   "source": [
    "import pandas as pd\n",
    "import numpy as np\n",
    "import matplotlib.pyplot as plt\n",
    "import seaborn as sns"
   ]
  },
  {
   "cell_type": "code",
   "execution_count": 3,
   "id": "b28b7c13",
   "metadata": {},
   "outputs": [
    {
     "data": {
      "text/html": [
       "<div>\n",
       "<style scoped>\n",
       "    .dataframe tbody tr th:only-of-type {\n",
       "        vertical-align: middle;\n",
       "    }\n",
       "\n",
       "    .dataframe tbody tr th {\n",
       "        vertical-align: top;\n",
       "    }\n",
       "\n",
       "    .dataframe thead th {\n",
       "        text-align: right;\n",
       "    }\n",
       "</style>\n",
       "<table border=\"1\" class=\"dataframe\">\n",
       "  <thead>\n",
       "    <tr style=\"text-align: right;\">\n",
       "      <th></th>\n",
       "      <th>Area Code</th>\n",
       "      <th>Area</th>\n",
       "      <th>Item Code</th>\n",
       "      <th>Item</th>\n",
       "      <th>Element Code</th>\n",
       "      <th>Element</th>\n",
       "      <th>Unit</th>\n",
       "      <th>Y2014</th>\n",
       "      <th>Y2015</th>\n",
       "      <th>Y2016</th>\n",
       "      <th>Y2017</th>\n",
       "      <th>Y2018</th>\n",
       "    </tr>\n",
       "  </thead>\n",
       "  <tbody>\n",
       "    <tr>\n",
       "      <th>0</th>\n",
       "      <td>4</td>\n",
       "      <td>Algeria</td>\n",
       "      <td>2501</td>\n",
       "      <td>Population</td>\n",
       "      <td>511</td>\n",
       "      <td>Total Population - Both sexes</td>\n",
       "      <td>1000 persons</td>\n",
       "      <td>38924.00</td>\n",
       "      <td>39728.00</td>\n",
       "      <td>40551.00</td>\n",
       "      <td>41389.00</td>\n",
       "      <td>42228.00</td>\n",
       "    </tr>\n",
       "    <tr>\n",
       "      <th>1</th>\n",
       "      <td>4</td>\n",
       "      <td>Algeria</td>\n",
       "      <td>2501</td>\n",
       "      <td>Population</td>\n",
       "      <td>5301</td>\n",
       "      <td>Domestic supply quantity</td>\n",
       "      <td>1000 tonnes</td>\n",
       "      <td>0.00</td>\n",
       "      <td>0.00</td>\n",
       "      <td>0.00</td>\n",
       "      <td>0.00</td>\n",
       "      <td>0.00</td>\n",
       "    </tr>\n",
       "    <tr>\n",
       "      <th>2</th>\n",
       "      <td>4</td>\n",
       "      <td>Algeria</td>\n",
       "      <td>2901</td>\n",
       "      <td>Grand Total</td>\n",
       "      <td>664</td>\n",
       "      <td>Food supply (kcal/capita/day)</td>\n",
       "      <td>kcal/capita/day</td>\n",
       "      <td>3377.00</td>\n",
       "      <td>3379.00</td>\n",
       "      <td>3372.00</td>\n",
       "      <td>3341.00</td>\n",
       "      <td>3322.00</td>\n",
       "    </tr>\n",
       "    <tr>\n",
       "      <th>3</th>\n",
       "      <td>4</td>\n",
       "      <td>Algeria</td>\n",
       "      <td>2901</td>\n",
       "      <td>Grand Total</td>\n",
       "      <td>674</td>\n",
       "      <td>Protein supply quantity (g/capita/day)</td>\n",
       "      <td>g/capita/day</td>\n",
       "      <td>94.90</td>\n",
       "      <td>94.35</td>\n",
       "      <td>94.72</td>\n",
       "      <td>92.82</td>\n",
       "      <td>91.83</td>\n",
       "    </tr>\n",
       "    <tr>\n",
       "      <th>4</th>\n",
       "      <td>4</td>\n",
       "      <td>Algeria</td>\n",
       "      <td>2901</td>\n",
       "      <td>Grand Total</td>\n",
       "      <td>684</td>\n",
       "      <td>Fat supply quantity (g/capita/day)</td>\n",
       "      <td>g/capita/day</td>\n",
       "      <td>80.06</td>\n",
       "      <td>79.36</td>\n",
       "      <td>77.40</td>\n",
       "      <td>80.19</td>\n",
       "      <td>77.28</td>\n",
       "    </tr>\n",
       "    <tr>\n",
       "      <th>...</th>\n",
       "      <td>...</td>\n",
       "      <td>...</td>\n",
       "      <td>...</td>\n",
       "      <td>...</td>\n",
       "      <td>...</td>\n",
       "      <td>...</td>\n",
       "      <td>...</td>\n",
       "      <td>...</td>\n",
       "      <td>...</td>\n",
       "      <td>...</td>\n",
       "      <td>...</td>\n",
       "      <td>...</td>\n",
       "    </tr>\n",
       "    <tr>\n",
       "      <th>60938</th>\n",
       "      <td>181</td>\n",
       "      <td>Zimbabwe</td>\n",
       "      <td>2899</td>\n",
       "      <td>Miscellaneous</td>\n",
       "      <td>5142</td>\n",
       "      <td>Food</td>\n",
       "      <td>1000 tonnes</td>\n",
       "      <td>42.00</td>\n",
       "      <td>46.00</td>\n",
       "      <td>33.00</td>\n",
       "      <td>19.00</td>\n",
       "      <td>16.00</td>\n",
       "    </tr>\n",
       "    <tr>\n",
       "      <th>60939</th>\n",
       "      <td>181</td>\n",
       "      <td>Zimbabwe</td>\n",
       "      <td>2899</td>\n",
       "      <td>Miscellaneous</td>\n",
       "      <td>645</td>\n",
       "      <td>Food supply quantity (kg/capita/yr)</td>\n",
       "      <td>kg</td>\n",
       "      <td>3.06</td>\n",
       "      <td>3.33</td>\n",
       "      <td>2.35</td>\n",
       "      <td>1.33</td>\n",
       "      <td>1.08</td>\n",
       "    </tr>\n",
       "    <tr>\n",
       "      <th>60940</th>\n",
       "      <td>181</td>\n",
       "      <td>Zimbabwe</td>\n",
       "      <td>2899</td>\n",
       "      <td>Miscellaneous</td>\n",
       "      <td>664</td>\n",
       "      <td>Food supply (kcal/capita/day)</td>\n",
       "      <td>kcal/capita/day</td>\n",
       "      <td>3.00</td>\n",
       "      <td>4.00</td>\n",
       "      <td>3.00</td>\n",
       "      <td>1.00</td>\n",
       "      <td>1.00</td>\n",
       "    </tr>\n",
       "    <tr>\n",
       "      <th>60941</th>\n",
       "      <td>181</td>\n",
       "      <td>Zimbabwe</td>\n",
       "      <td>2899</td>\n",
       "      <td>Miscellaneous</td>\n",
       "      <td>674</td>\n",
       "      <td>Protein supply quantity (g/capita/day)</td>\n",
       "      <td>g/capita/day</td>\n",
       "      <td>0.10</td>\n",
       "      <td>0.11</td>\n",
       "      <td>0.08</td>\n",
       "      <td>0.04</td>\n",
       "      <td>0.04</td>\n",
       "    </tr>\n",
       "    <tr>\n",
       "      <th>60942</th>\n",
       "      <td>181</td>\n",
       "      <td>Zimbabwe</td>\n",
       "      <td>2899</td>\n",
       "      <td>Miscellaneous</td>\n",
       "      <td>684</td>\n",
       "      <td>Fat supply quantity (g/capita/day)</td>\n",
       "      <td>g/capita/day</td>\n",
       "      <td>0.04</td>\n",
       "      <td>0.05</td>\n",
       "      <td>0.03</td>\n",
       "      <td>0.02</td>\n",
       "      <td>0.01</td>\n",
       "    </tr>\n",
       "  </tbody>\n",
       "</table>\n",
       "<p>60943 rows × 12 columns</p>\n",
       "</div>"
      ],
      "text/plain": [
       "       Area Code      Area  Item Code           Item  Element Code  \\\n",
       "0              4   Algeria       2501     Population           511   \n",
       "1              4   Algeria       2501     Population          5301   \n",
       "2              4   Algeria       2901    Grand Total           664   \n",
       "3              4   Algeria       2901    Grand Total           674   \n",
       "4              4   Algeria       2901    Grand Total           684   \n",
       "...          ...       ...        ...            ...           ...   \n",
       "60938        181  Zimbabwe       2899  Miscellaneous          5142   \n",
       "60939        181  Zimbabwe       2899  Miscellaneous           645   \n",
       "60940        181  Zimbabwe       2899  Miscellaneous           664   \n",
       "60941        181  Zimbabwe       2899  Miscellaneous           674   \n",
       "60942        181  Zimbabwe       2899  Miscellaneous           684   \n",
       "\n",
       "                                      Element             Unit     Y2014  \\\n",
       "0               Total Population - Both sexes     1000 persons  38924.00   \n",
       "1                    Domestic supply quantity      1000 tonnes      0.00   \n",
       "2               Food supply (kcal/capita/day)  kcal/capita/day   3377.00   \n",
       "3      Protein supply quantity (g/capita/day)     g/capita/day     94.90   \n",
       "4          Fat supply quantity (g/capita/day)     g/capita/day     80.06   \n",
       "...                                       ...              ...       ...   \n",
       "60938                                    Food      1000 tonnes     42.00   \n",
       "60939     Food supply quantity (kg/capita/yr)               kg      3.06   \n",
       "60940           Food supply (kcal/capita/day)  kcal/capita/day      3.00   \n",
       "60941  Protein supply quantity (g/capita/day)     g/capita/day      0.10   \n",
       "60942      Fat supply quantity (g/capita/day)     g/capita/day      0.04   \n",
       "\n",
       "          Y2015     Y2016     Y2017     Y2018  \n",
       "0      39728.00  40551.00  41389.00  42228.00  \n",
       "1          0.00      0.00      0.00      0.00  \n",
       "2       3379.00   3372.00   3341.00   3322.00  \n",
       "3         94.35     94.72     92.82     91.83  \n",
       "4         79.36     77.40     80.19     77.28  \n",
       "...         ...       ...       ...       ...  \n",
       "60938     46.00     33.00     19.00     16.00  \n",
       "60939      3.33      2.35      1.33      1.08  \n",
       "60940      4.00      3.00      1.00      1.00  \n",
       "60941      0.11      0.08      0.04      0.04  \n",
       "60942      0.05      0.03      0.02      0.01  \n",
       "\n",
       "[60943 rows x 12 columns]"
      ]
     },
     "execution_count": 3,
     "metadata": {},
     "output_type": "execute_result"
    }
   ],
   "source": [
    "df =pd.read_csv(\"FoodBalanceSheets_E_Africa_NOFLAG.csv\", encoding =\"latin-1\")\n",
    "df"
   ]
  },
  {
   "cell_type": "code",
   "execution_count": 4,
   "id": "123cb4c5",
   "metadata": {},
   "outputs": [
    {
     "name": "stdout",
     "output_type": "stream",
     "text": [
      "The Area with the 7th lowest sum in 2017 is 'Guinea-Bissau'\n"
     ]
    }
   ],
   "source": [
    "df_2017 = df[['Y2017', 'Area']]\n",
    "\n",
    "group_by_area = df_2017.groupby('Area')['Y2017'].sum().reset_index()\n",
    "\n",
    "sorted_sums = group_by_area.sort_values(by='Y2017')\n",
    "\n",
    "seventh_lowest_area = sorted_sums.iloc[6]['Area']  \n",
    "\n",
    "seventh_lowest_sum = sorted_sums.iloc[6]['Y2017']\n",
    "print(f\"The Area with the 7th lowest sum in 2017 is '{seventh_lowest_area}'\")\n"
   ]
  },
  {
   "cell_type": "code",
   "execution_count": 23,
   "id": "fec2e92b",
   "metadata": {},
   "outputs": [
    {
     "name": "stdout",
     "output_type": "stream",
     "text": [
      "Correlation with Element Code:\n",
      "Y2014: -0.40\n",
      "Y2015: -0.40\n",
      "Y2016: -0.40\n",
      "Y2017: -0.40\n",
      "Y2018: -0.40\n",
      "\n",
      "The year with the minimum correlation is 'Y2014' with a correlation of -0.40.\n"
     ]
    }
   ],
   "source": [
    "data = {\n",
    "    'Element Code': [511, 5301, 664, 674],\n",
    "    'Y2014': [38924, 0, 3377, 94.9],\n",
    "    'Y2015': [39728, 0, 3379, 94.35],\n",
    "    'Y2016': [40551, 0, 3372, 94.72],\n",
    "    'Y2017': [41389, 0, 3341, 92.82],\n",
    "    'Y2018': [42228, 0, 3322, 91.83]\n",
    "}\n",
    "\n",
    "df2 = pd.DataFrame(data)\n",
    "\n",
    "correlations = {}\n",
    "\n",
    "for year in ['Y2014', 'Y2015', 'Y2016', 'Y2017', 'Y2018']:\n",
    "    correlation = df2['Element Code'].corr(df2[year])\n",
    "    correlations[year] = correlation\n",
    "\n",
    "min_year = min(correlations, key=correlations.get)\n",
    "min_correlation = correlations[min_year]\n",
    "\n",
    "\n",
    "print(\"Correlation with Element Code:\")\n",
    "for year, correlation in correlations.items():\n",
    "    print(f\"{year}: {correlation:.2f}\")\n",
    "\n",
    "print(f\"\\nThe year with the minimum correlation is '{min_year}' with a correlation of {min_correlation:.2f}.\")\n"
   ]
  },
  {
   "cell_type": "code",
   "execution_count": 10,
   "id": "83528d1c",
   "metadata": {},
   "outputs": [
    {
     "name": "stdout",
     "output_type": "stream",
     "text": [
      "The Area with the highest sum in 2017 is 'Nigeria' with a sum of 1483268.23.\n"
     ]
    }
   ],
   "source": [
    "selected_data = df[['Y2017', 'Area']]\n",
    "\n",
    "\n",
    "sum_by_area = selected_data.groupby('Area')['Y2017'].sum().reset_index()\n",
    "\n",
    "area_highest_sum_2017 = sum_by_area.loc[sum_by_area['Y2017'].idxmax()]\n",
    "\n",
    "area_name_highest_sum = area_highest_sum_2017['Area']\n",
    "\n",
    "highest_sum_2017 = area_highest_sum_2017['Y2017']\n",
    "\n",
    "print(f\"The Area with the highest sum in 2017 is '{area_name_highest_sum}' with a sum of {highest_sum_2017}.\")\n"
   ]
  },
  {
   "cell_type": "code",
   "execution_count": 11,
   "id": "6e09b34f",
   "metadata": {},
   "outputs": [
    {
     "name": "stdout",
     "output_type": "stream",
     "text": [
      "Total Wine produced in 2015: 4251.8099999999995\n",
      "Total Wine produced in 2018: 4039.3199999999997\n"
     ]
    }
   ],
   "source": [
    "filtered_df = df[df['Item'] == 'Wine'][['Y2015', 'Y2018']]\n",
    "\n",
    "wine_2015_total = filtered_df['Y2015'].sum()\n",
    "\n",
    "wine_2018_total = filtered_df['Y2018'].sum()\n",
    "\n",
    "print(f\"Total Wine produced in 2015: {wine_2015_total}\")\n",
    "print(f\"Total Wine produced in 2018: {wine_2018_total}\")\n"
   ]
  },
  {
   "cell_type": "code",
   "execution_count": 12,
   "id": "dd3ab2f6",
   "metadata": {},
   "outputs": [
    {
     "name": "stdout",
     "output_type": "stream",
     "text": [
      "The year with the highest sum of Stock Variation is: 2014\n"
     ]
    }
   ],
   "source": [
    "\n",
    "stock_variation= df[df['Element'] == 'Stock Variation']\n",
    "\n",
    "grouped = stock_variation.groupby('Element')[['Y2014', 'Y2015', 'Y2016', 'Y2017', 'Y2018']].sum()\n",
    "\n",
    "max_year = grouped.idxmax(axis=1).values[0].lstrip('Y')\n",
    "\n",
    "print(f\"The year with the highest sum of Stock Variation is: {max_year}\")\n"
   ]
  },
  {
   "cell_type": "code",
   "execution_count": 13,
   "id": "33debd50",
   "metadata": {},
   "outputs": [
    {
     "name": "stdout",
     "output_type": "stream",
     "text": [
      "Total number of missing data in 2014: 1589\n",
      "Percentage of missing data in 2014: 2.607%\n"
     ]
    }
   ],
   "source": [
    "\n",
    "\n",
    "\n",
    "missing = df['Y2014'].isna().sum()\n",
    "\n",
    "total_count = df['Y2014'].shape[0]\n",
    "\n",
    "percentage_missing = (missing / total_count) * 100\n",
    "\n",
    "print(f\"Total number of missing data in 2014: {missing}\")\n",
    "print(f\"Percentage of missing data in 2014: {percentage_missing:.3f}%\")\n"
   ]
  },
  {
   "cell_type": "code",
   "execution_count": 14,
   "id": "c22ea5c2",
   "metadata": {},
   "outputs": [
    {
     "data": {
      "text/plain": [
       "49"
      ]
     },
     "execution_count": 14,
     "metadata": {},
     "output_type": "execute_result"
    }
   ],
   "source": [
    "df['Area'].nunique()"
   ]
  },
  {
   "cell_type": "code",
   "execution_count": 15,
   "id": "678938dd",
   "metadata": {},
   "outputs": [
    {
     "name": "stdout",
     "output_type": "stream",
     "text": [
      "The total sum of Processing in 2017 is: 292836.0\n"
     ]
    }
   ],
   "source": [
    " \n",
    "processing_2017_df = df[(df['Element'] == 'Processing') & (df['Y2017'].notna())]\n",
    "\n",
    "grouped = processing_2017_df.groupby('Element')['Y2017'].sum()\n",
    "\n",
    "sum_processing_2017 = grouped.get('Processing', 0)  \n",
    "\n",
    "print(f\"The total sum of Processing in 2017 is: {sum_processing_2017}\")\n"
   ]
  },
  {
   "cell_type": "code",
   "execution_count": 22,
   "id": "7fdc911c",
   "metadata": {},
   "outputs": [
    {
     "name": "stdout",
     "output_type": "stream",
     "text": [
      "The total Protein supply quantity in Madagascar in 2015 is: 0.00 kg/capita/year\n"
     ]
    }
   ],
   "source": [
    "\n",
    "filtered_df = df[(df['Area'] == 'Madagascar') & \n",
    "                 (df['Item'] == 'Protein') & \n",
    "                 (df['Element'] == 'Food supply quantity (kg/capita/year)') &\n",
    "                 (df['Y2015'].notnull())] \n",
    "\n",
    "total_protein_supply_2015 = filtered_df['Y2015'].sum()\n",
    "\n",
    "print(f\"The total Protein supply quantity in Madagascar in 2015 is: {total_protein_supply_2015:.2f} kg/capita/year\")\n"
   ]
  },
  {
   "cell_type": "code",
   "execution_count": 16,
   "id": "bdfad0d4",
   "metadata": {},
   "outputs": [
    {
     "name": "stdout",
     "output_type": "stream",
     "text": [
      "Mean for the year 2017: 140.92\n",
      "Standard deviation for the year 2017: 1671.86\n"
     ]
    }
   ],
   "source": [
    "columns_2017 = [col for col in df.columns if col.startswith('Y2017')]\n",
    "\n",
    "df_2017 = df[columns_2017]\n",
    "\n",
    "mean_2017 = df_2017.stack().mean() \n",
    "\n",
    "std_dev_2017 = df_2017.stack().std() \n",
    "\n",
    "\n",
    "print(f\"Mean for the year 2017: {mean_2017:.2f}\")\n",
    "print(f\"Standard deviation for the year 2017: {std_dev_2017:.2f}\")\n"
   ]
  },
  {
   "cell_type": "code",
   "execution_count": null,
   "id": "d4ea6a41",
   "metadata": {},
   "outputs": [],
   "source": []
  }
 ],
 "metadata": {
  "kernelspec": {
   "display_name": "Python 3 (ipykernel)",
   "language": "python",
   "name": "python3"
  },
  "language_info": {
   "codemirror_mode": {
    "name": "ipython",
    "version": 3
   },
   "file_extension": ".py",
   "mimetype": "text/x-python",
   "name": "python",
   "nbconvert_exporter": "python",
   "pygments_lexer": "ipython3",
   "version": "3.11.5"
  }
 },
 "nbformat": 4,
 "nbformat_minor": 5
}
